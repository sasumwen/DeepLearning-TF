{
  "nbformat": 4,
  "nbformat_minor": 0,
  "metadata": {
    "colab": {
      "provenance": [],
      "authorship_tag": "ABX9TyPZ1YxfzWDW59SupvIlIJQ6",
      "include_colab_link": true
    },
    "kernelspec": {
      "name": "python3",
      "display_name": "Python 3"
    },
    "language_info": {
      "name": "python"
    }
  },
  "cells": [
    {
      "cell_type": "markdown",
      "metadata": {
        "id": "view-in-github",
        "colab_type": "text"
      },
      "source": [
        "<a href=\"https://colab.research.google.com/github/sasumwen/DeepLearning-TF/blob/main/deeplearning_tf.ipynb\" target=\"_parent\"><img src=\"https://colab.research.google.com/assets/colab-badge.svg\" alt=\"Open In Colab\"/></a>"
      ]
    },
    {
      "cell_type": "code",
      "source": [
        "import numpy as np\n",
        "import sklearn \n",
        "import pandas as pd\n",
        "import tensorflow as tf"
      ],
      "metadata": {
        "id": "xPIMV7LxWSjZ"
      },
      "execution_count": 4,
      "outputs": []
    },
    {
      "cell_type": "code",
      "execution_count": 6,
      "metadata": {
        "id": "duFpQKZBVNXi"
      },
      "outputs": [],
      "source": [
        "X = np.array([-1,0,1,2,3,4], dtype=float)\n",
        "y = np.array([-3,-1,1,3,5,7], dtype=float)\n"
      ]
    },
    {
      "cell_type": "code",
      "source": [
        "model = tf.keras.Sequential([\n",
        "    tf.keras.layers.Dense(units=1, input_shape=[1])\n",
        "    \n",
        "])"
      ],
      "metadata": {
        "id": "HuF2yur-WQ4v"
      },
      "execution_count": 7,
      "outputs": []
    },
    {
      "cell_type": "code",
      "source": [
        "model.compile(loss = tf.keras.losses.mae,\n",
        "              optimizer = tf.keras.optimizers.SGD(),\n",
        "              metrics = [\"mae\"])"
      ],
      "metadata": {
        "id": "3gQD7TJAW9Y9"
      },
      "execution_count": 9,
      "outputs": []
    },
    {
      "cell_type": "code",
      "source": [
        "model.fit(X, y, epochs=50)"
      ],
      "metadata": {
        "colab": {
          "base_uri": "https://localhost:8080/"
        },
        "id": "uWnOAz26XTa9",
        "outputId": "5b0bef03-f987-4055-d490-ee7a68989cc0"
      },
      "execution_count": 11,
      "outputs": [
        {
          "output_type": "stream",
          "name": "stdout",
          "text": [
            "Epoch 1/50\n",
            "1/1 [==============================] - 0s 498ms/step - loss: 1.7821 - mae: 1.7821\n",
            "Epoch 2/50\n",
            "1/1 [==============================] - 0s 10ms/step - loss: 1.7474 - mae: 1.7474\n",
            "Epoch 3/50\n",
            "1/1 [==============================] - 0s 8ms/step - loss: 1.7127 - mae: 1.7127\n",
            "Epoch 4/50\n",
            "1/1 [==============================] - 0s 10ms/step - loss: 1.6780 - mae: 1.6780\n",
            "Epoch 5/50\n",
            "1/1 [==============================] - 0s 8ms/step - loss: 1.6432 - mae: 1.6432\n",
            "Epoch 6/50\n",
            "1/1 [==============================] - 0s 7ms/step - loss: 1.6085 - mae: 1.6085\n",
            "Epoch 7/50\n",
            "1/1 [==============================] - 0s 8ms/step - loss: 1.5738 - mae: 1.5738\n",
            "Epoch 8/50\n",
            "1/1 [==============================] - 0s 5ms/step - loss: 1.5391 - mae: 1.5391\n",
            "Epoch 9/50\n",
            "1/1 [==============================] - 0s 7ms/step - loss: 1.5108 - mae: 1.5108\n",
            "Epoch 10/50\n",
            "1/1 [==============================] - 0s 8ms/step - loss: 1.4883 - mae: 1.4883\n",
            "Epoch 11/50\n",
            "1/1 [==============================] - 0s 5ms/step - loss: 1.4658 - mae: 1.4658\n",
            "Epoch 12/50\n",
            "1/1 [==============================] - 0s 8ms/step - loss: 1.4433 - mae: 1.4433\n",
            "Epoch 13/50\n",
            "1/1 [==============================] - 0s 8ms/step - loss: 1.4208 - mae: 1.4208\n",
            "Epoch 14/50\n",
            "1/1 [==============================] - 0s 8ms/step - loss: 1.3983 - mae: 1.3983\n",
            "Epoch 15/50\n",
            "1/1 [==============================] - 0s 7ms/step - loss: 1.3758 - mae: 1.3758\n",
            "Epoch 16/50\n",
            "1/1 [==============================] - 0s 5ms/step - loss: 1.3533 - mae: 1.3533\n",
            "Epoch 17/50\n",
            "1/1 [==============================] - 0s 5ms/step - loss: 1.3308 - mae: 1.3308\n",
            "Epoch 18/50\n",
            "1/1 [==============================] - 0s 5ms/step - loss: 1.3083 - mae: 1.3083\n",
            "Epoch 19/50\n",
            "1/1 [==============================] - 0s 5ms/step - loss: 1.2858 - mae: 1.2858\n",
            "Epoch 20/50\n",
            "1/1 [==============================] - 0s 5ms/step - loss: 1.2633 - mae: 1.2633\n",
            "Epoch 21/50\n",
            "1/1 [==============================] - 0s 6ms/step - loss: 1.2408 - mae: 1.2408\n",
            "Epoch 22/50\n",
            "1/1 [==============================] - 0s 6ms/step - loss: 1.2183 - mae: 1.2183\n",
            "Epoch 23/50\n",
            "1/1 [==============================] - 0s 6ms/step - loss: 1.1958 - mae: 1.1958\n",
            "Epoch 24/50\n",
            "1/1 [==============================] - 0s 5ms/step - loss: 1.1733 - mae: 1.1733\n",
            "Epoch 25/50\n",
            "1/1 [==============================] - 0s 6ms/step - loss: 1.1508 - mae: 1.1508\n",
            "Epoch 26/50\n",
            "1/1 [==============================] - 0s 6ms/step - loss: 1.1283 - mae: 1.1283\n",
            "Epoch 27/50\n",
            "1/1 [==============================] - 0s 6ms/step - loss: 1.1058 - mae: 1.1058\n",
            "Epoch 28/50\n",
            "1/1 [==============================] - 0s 6ms/step - loss: 1.0833 - mae: 1.0833\n",
            "Epoch 29/50\n",
            "1/1 [==============================] - 0s 7ms/step - loss: 1.0608 - mae: 1.0608\n",
            "Epoch 30/50\n",
            "1/1 [==============================] - 0s 6ms/step - loss: 1.0383 - mae: 1.0383\n",
            "Epoch 31/50\n",
            "1/1 [==============================] - 0s 6ms/step - loss: 1.0158 - mae: 1.0158\n",
            "Epoch 32/50\n",
            "1/1 [==============================] - 0s 6ms/step - loss: 0.9933 - mae: 0.9933\n",
            "Epoch 33/50\n",
            "1/1 [==============================] - 0s 6ms/step - loss: 0.9708 - mae: 0.9708\n",
            "Epoch 34/50\n",
            "1/1 [==============================] - 0s 6ms/step - loss: 0.9483 - mae: 0.9483\n",
            "Epoch 35/50\n",
            "1/1 [==============================] - 0s 6ms/step - loss: 0.9258 - mae: 0.9258\n",
            "Epoch 36/50\n",
            "1/1 [==============================] - 0s 5ms/step - loss: 0.9033 - mae: 0.9033\n",
            "Epoch 37/50\n",
            "1/1 [==============================] - 0s 6ms/step - loss: 0.8808 - mae: 0.8808\n",
            "Epoch 38/50\n",
            "1/1 [==============================] - 0s 6ms/step - loss: 0.8583 - mae: 0.8583\n",
            "Epoch 39/50\n",
            "1/1 [==============================] - 0s 6ms/step - loss: 0.8358 - mae: 0.8358\n",
            "Epoch 40/50\n",
            "1/1 [==============================] - 0s 6ms/step - loss: 0.8133 - mae: 0.8133\n",
            "Epoch 41/50\n",
            "1/1 [==============================] - 0s 6ms/step - loss: 0.7908 - mae: 0.7908\n",
            "Epoch 42/50\n",
            "1/1 [==============================] - 0s 6ms/step - loss: 0.7691 - mae: 0.7691\n",
            "Epoch 43/50\n",
            "1/1 [==============================] - 0s 7ms/step - loss: 0.7610 - mae: 0.7610\n",
            "Epoch 44/50\n",
            "1/1 [==============================] - 0s 7ms/step - loss: 0.7530 - mae: 0.7530\n",
            "Epoch 45/50\n",
            "1/1 [==============================] - 0s 7ms/step - loss: 0.7449 - mae: 0.7449\n",
            "Epoch 46/50\n",
            "1/1 [==============================] - 0s 6ms/step - loss: 0.7369 - mae: 0.7369\n",
            "Epoch 47/50\n",
            "1/1 [==============================] - 0s 6ms/step - loss: 0.7288 - mae: 0.7288\n",
            "Epoch 48/50\n",
            "1/1 [==============================] - 0s 6ms/step - loss: 0.7207 - mae: 0.7207\n",
            "Epoch 49/50\n",
            "1/1 [==============================] - 0s 11ms/step - loss: 0.7127 - mae: 0.7127\n",
            "Epoch 50/50\n",
            "1/1 [==============================] - 0s 6ms/step - loss: 0.7046 - mae: 0.7046\n"
          ]
        },
        {
          "output_type": "execute_result",
          "data": {
            "text/plain": [
              "<keras.callbacks.History at 0x7f70750f92b0>"
            ]
          },
          "metadata": {},
          "execution_count": 11
        }
      ]
    },
    {
      "cell_type": "code",
      "source": [
        "model.predict([10])"
      ],
      "metadata": {
        "colab": {
          "base_uri": "https://localhost:8080/"
        },
        "id": "oQGSKpUGXuxS",
        "outputId": "86ce23e6-1b95-4217-fa88-5c45ed2ca31d"
      },
      "execution_count": 12,
      "outputs": [
        {
          "output_type": "stream",
          "name": "stdout",
          "text": [
            "1/1 [==============================] - 0s 118ms/step\n"
          ]
        },
        {
          "output_type": "execute_result",
          "data": {
            "text/plain": [
              "array([[15.624417]], dtype=float32)"
            ]
          },
          "metadata": {},
          "execution_count": 12
        }
      ]
    },
    {
      "cell_type": "code",
      "source": [],
      "metadata": {
        "id": "-FAPlrclX9QE"
      },
      "execution_count": null,
      "outputs": []
    }
  ]
}